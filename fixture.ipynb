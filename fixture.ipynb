{
  "nbformat": 4,
  "nbformat_minor": 0,
  "metadata": {
    "colab": {
      "name": "fixture.ipynb",
      "provenance": [],
      "collapsed_sections": [],
      "authorship_tag": "ABX9TyMJxY+yq3sczeXFI6P2dsDK",
      "include_colab_link": true
    },
    "kernelspec": {
      "name": "python3",
      "display_name": "Python 3"
    },
    "language_info": {
      "name": "python"
    }
  },
  "cells": [
    {
      "cell_type": "markdown",
      "metadata": {
        "id": "view-in-github",
        "colab_type": "text"
      },
      "source": [
        "<a href=\"https://colab.research.google.com/github/TayJeong/pytest/blob/main/fixture.ipynb\" target=\"_parent\"><img src=\"https://colab.research.google.com/assets/colab-badge.svg\" alt=\"Open In Colab\"/></a>"
      ]
    },
    {
      "cell_type": "code",
      "execution_count": 1,
      "metadata": {
        "colab": {
          "base_uri": "https://localhost:8080/"
        },
        "id": "iAvJCCzmbJcE",
        "outputId": "62a7b86f-0454-4c8c-cc86-43a60290c9e2"
      },
      "outputs": [
        {
          "output_type": "stream",
          "name": "stdout",
          "text": [
            "\u001b[1m============================= test session starts ==============================\u001b[0m\n",
            "platform linux -- Python 3.7.13, pytest-3.6.4, py-1.11.0, pluggy-0.7.1\n",
            "rootdir: /content, inifile:\n",
            "plugins: typeguard-2.7.1\n",
            "\u001b[1m\rcollecting 0 items                                                             \u001b[0m\u001b[1m\rcollecting 2 items                                                             \u001b[0m\u001b[1m\rcollected 2 items                                                              \u001b[0m\n",
            "\n",
            "test_sample.py F.\u001b[36m                                                        [100%]\u001b[0m\n",
            "\n",
            "=================================== FAILURES ===================================\n",
            "\u001b[31m\u001b[1m______________________________ test_file1_method _______________________________\u001b[0m\n",
            "\n",
            "\u001b[1m    def test_file1_method():\u001b[0m\n",
            "\u001b[1m      x=5\u001b[0m\n",
            "\u001b[1m      y=6\u001b[0m\n",
            "\u001b[1m      assert x+1 == y, \"test failed\"\u001b[0m\n",
            "\u001b[1m>     assert x == y, \"test failed\"\u001b[0m\n",
            "\u001b[1m\u001b[31mE     AssertionError: test failed\u001b[0m\n",
            "\u001b[1m\u001b[31mE     assert 5 == 6\u001b[0m\n",
            "\n",
            "\u001b[1m\u001b[31mtest_sample.py\u001b[0m:6: AssertionError\n",
            "\u001b[31m\u001b[1m====================== 1 failed, 1 passed in 0.04 seconds ======================\u001b[0m\n"
          ]
        }
      ],
      "source": [
        "!py.test"
      ]
    },
    {
      "cell_type": "code",
      "source": [
        "!py.test -k method1 -v"
      ],
      "metadata": {
        "colab": {
          "base_uri": "https://localhost:8080/"
        },
        "id": "FpraryeucuL1",
        "outputId": "80808031-e62e-4255-8630-29c573e4d6c8"
      },
      "execution_count": 5,
      "outputs": [
        {
          "output_type": "stream",
          "name": "stdout",
          "text": [
            "\u001b[1m============================= test session starts ==============================\u001b[0m\n",
            "platform linux -- Python 3.7.13, pytest-3.6.4, py-1.11.0, pluggy-0.7.1 -- /usr/bin/python3\n",
            "cachedir: .pytest_cache\n",
            "rootdir: /content, inifile:\n",
            "plugins: typeguard-2.7.1\n",
            "\u001b[1m\rcollecting 0 items                                                             \u001b[0m\u001b[1m\rcollecting 2 items                                                             \u001b[0m\u001b[1m\rcollecting 4 items                                                             \u001b[0m\u001b[1m\rcollected 4 items / 4 deselected                                               \u001b[0m\n",
            "\n",
            "\u001b[33m\u001b[1m========================= 4 deselected in 0.01 seconds =========================\u001b[0m\n"
          ]
        }
      ]
    },
    {
      "cell_type": "code",
      "source": [
        "!py.test -v"
      ],
      "metadata": {
        "colab": {
          "base_uri": "https://localhost:8080/"
        },
        "id": "H0GAu-nediYv",
        "outputId": "c508bc59-365e-497f-922f-b76e4466edd8"
      },
      "execution_count": 8,
      "outputs": [
        {
          "output_type": "stream",
          "name": "stdout",
          "text": [
            "\u001b[1m============================= test session starts ==============================\u001b[0m\n",
            "platform linux -- Python 3.7.13, pytest-3.6.4, py-1.11.0, pluggy-0.7.1 -- /usr/bin/python3\n",
            "cachedir: .pytest_cache\n",
            "rootdir: /content, inifile:\n",
            "plugins: typeguard-2.7.1\n",
            "\u001b[1m\rcollecting 0 items                                                             \u001b[0m\u001b[1m\rcollecting 1 item                                                              \u001b[0m\u001b[1m\rcollected 1 item                                                               \u001b[0m\n",
            "\n",
            "test_sample1.py::test_comparewithAA \u001b[32mPASSED\u001b[0m\u001b[36m                               [100%]\u001b[0m\n",
            "\n",
            "\u001b[32m\u001b[1m=========================== 1 passed in 0.02 seconds ===========================\u001b[0m\n"
          ]
        }
      ]
    }
  ]
}